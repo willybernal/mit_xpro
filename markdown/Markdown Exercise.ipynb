{
 "cells": [
  {
   "cell_type": "markdown",
   "id": "8d192c86",
   "metadata": {},
   "source": [
    "# Markdown Cheat Sheet\n",
    "This document contains examples of markdown features. It serves as a reference for future use.\n",
    "\n",
    "## Table of Contents\n",
    "* [Headers](#headers)\n",
    "* [Code](#headers)\n",
    "* [Links](#headers)\n",
    "* [Italics and Bold](#italics&bold)\n",
    "* [Lists](#lists)\n",
    "* [Highlights](#highlights)\n",
    "\n",
    "---"
   ]
  },
  {
   "cell_type": "markdown",
   "id": "b8beea4f",
   "metadata": {},
   "source": [
    "## Headers <a class=\"anchor\" id=\"headers\"></a>\n",
    "Headers help you split your document into multiple sections and allows you to provide a name for each of them."
   ]
  },
  {
   "cell_type": "markdown",
   "id": "da0c66c5",
   "metadata": {},
   "source": [
    "## Code <a class=\"anchor\" id=\"code\"></a>\n",
    "You can embed code in Jupyter markdown. Preeceed your code with **\\`\\`\\`python** and add **\\`\\`\\`** at the end\n",
    "\n",
    "\n",
    "```python\n",
    "from pyomo.environ import *\n",
    "model = Concretemodel()\n",
    "```"
   ]
  },
  {
   "cell_type": "markdown",
   "id": "5cd7d11a",
   "metadata": {},
   "source": [
    "## Links  <a class=\"anchor\" id=\"links\"></a>\n",
    "You can provide links in your markdown by using the following format:\n",
    "\n",
    "[MIT xPro Program](https://xpro.mit.edu/programs/program-v1:xPRO+PCDEx/ \"MIT xPro Program\")"
   ]
  },
  {
   "cell_type": "markdown",
   "id": "64f05aa7",
   "metadata": {},
   "source": [
    "## Italics and Bold <a class=\"anchor\" id=\"italics&bold\"></a>\n",
    "You can emphasize your text in the following way:\n",
    "\n",
    "* **Hello World**\n",
    "* __Hello World__\n",
    "* *Hello World*\n",
    "* _Hello World_"
   ]
  },
  {
   "cell_type": "markdown",
   "id": "ea5dd5bc",
   "metadata": {},
   "source": [
    "## Enumerated/Unordered Lists <a class=\"anchor\" id=\"lists\"></a>\n",
    "1. Enumerated Lists element 1\n",
    "2. Enumerated Lists element 2\n",
    "3. Enumerated Lists element 3\n",
    "\n",
    "- Unorderd Lists element\n",
    "- Unorderd Lists element\n",
    "- Unorderd Lists element"
   ]
  },
  {
   "cell_type": "markdown",
   "id": "2dccf31a",
   "metadata": {},
   "source": [
    "##  Highlights  <a class=\"anchor\" id=\"highlights\"></a>\n",
    "I need to highlight these ==very important words=="
   ]
  },
  {
   "cell_type": "markdown",
   "id": "59bfccef",
   "metadata": {},
   "source": [
    " \t~~The world is flat.~~"
   ]
  },
  {
   "cell_type": "code",
   "execution_count": null,
   "id": "8613e7a7",
   "metadata": {},
   "outputs": [],
   "source": []
  }
 ],
 "metadata": {
  "kernelspec": {
   "display_name": "Python 3 (ipykernel)",
   "language": "python",
   "name": "python3"
  },
  "language_info": {
   "codemirror_mode": {
    "name": "ipython",
    "version": 3
   },
   "file_extension": ".py",
   "mimetype": "text/x-python",
   "name": "python",
   "nbconvert_exporter": "python",
   "pygments_lexer": "ipython3",
   "version": "3.10.7"
  }
 },
 "nbformat": 4,
 "nbformat_minor": 5
}
